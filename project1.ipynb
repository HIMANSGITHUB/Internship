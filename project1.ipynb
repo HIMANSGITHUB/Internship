{
 "cells": [
  {
   "cell_type": "code",
   "execution_count": 5,
   "id": "0e831df0",
   "metadata": {},
   "outputs": [
    {
     "name": "stdout",
     "output_type": "stream",
     "text": [
      "Enter the person's name: ronaldo\n",
      "Downloaded image 1\n",
      "Downloaded image 2\n",
      "Downloaded image 3\n",
      "Downloaded image 4\n",
      "Downloaded image 5\n",
      "Downloaded image 6\n",
      "Downloaded image 7\n",
      "Downloaded image 8\n",
      "Downloaded image 9\n",
      "Downloaded image 10\n",
      "Downloaded image 11\n",
      "Downloaded image 12\n",
      "Downloaded image 13\n",
      "Downloaded image 14\n",
      "Downloaded image 15\n",
      "Downloaded image 16\n",
      "Downloaded image 17\n",
      "Downloaded image 18\n",
      "Downloaded image 19\n",
      "Downloaded image 20\n",
      "Downloaded image 21\n",
      "Downloaded image 22\n",
      "Downloaded image 23\n",
      "Downloaded image 24\n",
      "Downloaded image 25\n",
      "Downloaded image 26\n",
      "Downloaded image 27\n",
      "Downloaded image 28\n",
      "Downloaded image 29\n"
     ]
    }
   ],
   "source": [
    "import os\n",
    "import requests\n",
    "from bs4 import BeautifulSoup\n",
    "from urllib.parse import quote\n",
    "\n",
    "def download_images(query, num_images):\n",
    "    # Create a directory to store the downloaded images\n",
    "    if not os.path.exists(query):\n",
    "        os.makedirs(query)\n",
    "\n",
    "    # Format the query for the Google Images URL\n",
    "    query = quote(query)\n",
    "\n",
    "    # Initialize the count and page variables\n",
    "    count = 0\n",
    "    page = 1\n",
    "\n",
    "    while count < num_images:\n",
    "        # Google Images URL with pagination\n",
    "        url = f\"https://www.google.com/search?q={query}&tbm=isch&start={str((page-1)*20)}\"\n",
    "\n",
    "        # Send a GET request to the Google Images URL\n",
    "        response = requests.get(url, headers={\"User-Agent\": \"Mozilla/5.0\"})\n",
    "\n",
    "        # Parse the response using BeautifulSoup\n",
    "        soup = BeautifulSoup(response.text, \"html.parser\")\n",
    "\n",
    "        # Find the image elements on the page\n",
    "        images = soup.find_all(\"img\")\n",
    "\n",
    "        # Download the images\n",
    "        for image in images:\n",
    "            if count >= num_images:\n",
    "                break\n",
    "\n",
    "            src = image[\"src\"]\n",
    "\n",
    "            # Skip if the image source is not a valid URL\n",
    "            if src[:4] != \"http\":\n",
    "                continue\n",
    "\n",
    "            try:\n",
    "                # Send a GET request to download the image\n",
    "                response = requests.get(src)\n",
    "                response.raise_for_status()\n",
    "\n",
    "                # Save the image to the local system\n",
    "                with open(os.path.join(query, f\"{count}.jpg\"), \"wb\") as f:\n",
    "                    f.write(response.content)\n",
    "\n",
    "                print(f\"Downloaded image {count + 1}\")\n",
    "                count += 1\n",
    "\n",
    "            except requests.exceptions.HTTPError as e:\n",
    "                print(f\"Error downloading image {count + 1}: {e}\")\n",
    "\n",
    "        # Increment the page number for pagination\n",
    "        page += 1\n",
    "\n",
    "if __name__ == \"__main__\":\n",
    "    # Prompt the user to enter the person's name\n",
    "    name = input(\"Enter the person's name: \")\n",
    "    num_images = 29\n",
    "\n",
    "    # Download the images\n",
    "    download_images(name, num_images)\n"
   ]
  },
  {
   "cell_type": "code",
   "execution_count": 6,
   "id": "e15882e9",
   "metadata": {},
   "outputs": [
    {
     "name": "stdout",
     "output_type": "stream",
     "text": [
      "Downloaded image 1\n",
      "Downloaded image 2\n",
      "Downloaded image 3\n",
      "Downloaded image 4\n",
      "Downloaded image 5\n",
      "Downloaded image 6\n",
      "Downloaded image 7\n",
      "Downloaded image 8\n",
      "Downloaded image 9\n",
      "Downloaded image 10\n",
      "Downloaded image 11\n",
      "Downloaded image 12\n",
      "Downloaded image 13\n",
      "Downloaded image 14\n",
      "Downloaded image 15\n",
      "Downloaded image 16\n",
      "Downloaded image 17\n",
      "Downloaded image 18\n",
      "Downloaded image 19\n",
      "Downloaded image 20\n",
      "Downloaded image 21\n",
      "Downloaded image 22\n",
      "Downloaded image 23\n",
      "Downloaded image 24\n",
      "Downloaded image 25\n",
      "Downloaded image 26\n",
      "Downloaded image 27\n",
      "Downloaded image 28\n",
      "Downloaded image 29\n"
     ]
    }
   ],
   "source": [
    " download_images(name, num_images)"
   ]
  },
  {
   "cell_type": "code",
   "execution_count": 9,
   "id": "c5df84c5",
   "metadata": {},
   "outputs": [
    {
     "name": "stdout",
     "output_type": "stream",
     "text": [
      "Downloaded image 1\n",
      "Downloaded image 2\n",
      "Downloaded image 3\n",
      "Downloaded image 4\n",
      "Downloaded image 5\n",
      "Downloaded image 6\n",
      "Downloaded image 7\n",
      "Downloaded image 8\n",
      "Downloaded image 9\n",
      "Downloaded image 10\n"
     ]
    }
   ],
   "source": [
    " download_images('India', 10)"
   ]
  },
  {
   "cell_type": "code",
   "execution_count": 11,
   "id": "aaa1529a",
   "metadata": {},
   "outputs": [
    {
     "name": "stdout",
     "output_type": "stream",
     "text": [
      "Downloaded image 1\n",
      "Downloaded image 2\n",
      "Downloaded image 3\n",
      "Downloaded image 4\n",
      "Downloaded image 5\n",
      "Downloaded image 6\n",
      "Downloaded image 7\n",
      "Downloaded image 8\n",
      "Downloaded image 9\n",
      "Downloaded image 10\n",
      "Downloaded image 11\n",
      "Downloaded image 12\n",
      "Downloaded image 13\n",
      "Downloaded image 14\n",
      "Downloaded image 15\n",
      "Downloaded image 16\n",
      "Downloaded image 17\n",
      "Downloaded image 18\n"
     ]
    }
   ],
   "source": [
    " download_images('putin', 18)"
   ]
  },
  {
   "cell_type": "code",
   "execution_count": null,
   "id": "60d6ba50",
   "metadata": {},
   "outputs": [],
   "source": []
  }
 ],
 "metadata": {
  "kernelspec": {
   "display_name": "Python 3 (ipykernel)",
   "language": "python",
   "name": "python3"
  },
  "language_info": {
   "codemirror_mode": {
    "name": "ipython",
    "version": 3
   },
   "file_extension": ".py",
   "mimetype": "text/x-python",
   "name": "python",
   "nbconvert_exporter": "python",
   "pygments_lexer": "ipython3",
   "version": "3.9.12"
  }
 },
 "nbformat": 4,
 "nbformat_minor": 5
}
